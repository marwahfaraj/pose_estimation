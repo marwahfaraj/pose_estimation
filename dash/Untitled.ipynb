{
 "cells": [
  {
   "cell_type": "code",
   "execution_count": 2,
   "id": "4d38af89",
   "metadata": {},
   "outputs": [],
   "source": [
    "from flask import Flask, render_template, Response, request\n",
    "import cv2\n",
    "import datetime, time\n",
    "import os, sys\n",
    "import numpy as np\n",
    "from threading import Thread\n",
    "\n",
    "\n",
    "global capture,rec_frame, grey, switch, neg, face, rec, out \n",
    "capture=0\n",
    "grey=0\n",
    "neg=0\n",
    "face=0\n",
    "switch=1\n",
    "rec=0\n",
    "\n",
    "#make shots directory to save pics\n",
    "try:\n",
    "    os.mkdir('./shots')\n",
    "except OSError as error:\n",
    "    pass\n",
    "\n",
    "# #Load pretrained face detection model    \n",
    "# net = cv2.('./saved_model/deploy.prototxt.txt', './saved_model/res10_300x300_ssd_iter_140000.caffemodel')\n",
    "\n",
    "#instatiate flask app  \n",
    "app = Flask(__name__, template_folder='./templates')\n",
    "\n",
    "\n",
    "camera = cv2.VideoCapture(0)\n",
    "\n",
    "def gen_frames():  \n",
    "    while True:\n",
    "        success, frame = camera.read()  # read the camera frame\n",
    "        if not success:\n",
    "            break\n",
    "        else:\n",
    "            ret, buffer = cv2.imencode('.jpg', frame)\n",
    "            frame = buffer.tobytes()\n",
    "            yield (b'--frame\\r\\n'\n",
    "                   b'Content-Type: image/jpeg\\r\\n\\r\\n' + frame + b'\\r\\n')  # concat frame one by one and show result\n",
    "\n",
    "@app.route('/')\n",
    "def index():\n",
    "    return render_template('index.html')"
   ]
  },
  {
   "cell_type": "code",
   "execution_count": 3,
   "id": "a623cefe",
   "metadata": {},
   "outputs": [],
   "source": [
    "def gen_frames():  \n",
    "    while True:\n",
    "        success, frame = camera.read()  # read the camera frame\n",
    "        if not success:\n",
    "            break\n",
    "        else:\n",
    "            ret, buffer = cv2.imencode('.jpg', frame)\n",
    "            frame = buffer.tobytes()\n",
    "            yield (b'--frame\\r\\n'\n",
    "                   b'Content-Type: image/jpeg\\r\\n\\r\\n' + frame + b'\\r\\n')  # concat frame one by one and show result\n",
    "\n",
    "@app.route('/')\n",
    "def index():\n",
    "    return render_template('index.html')"
   ]
  },
  {
   "cell_type": "code",
   "execution_count": null,
   "id": "0ae3655b",
   "metadata": {},
   "outputs": [],
   "source": []
  }
 ],
 "metadata": {
  "kernelspec": {
   "display_name": "Python 3",
   "language": "python",
   "name": "python3"
  },
  "language_info": {
   "codemirror_mode": {
    "name": "ipython",
    "version": 3
   },
   "file_extension": ".py",
   "mimetype": "text/x-python",
   "name": "python",
   "nbconvert_exporter": "python",
   "pygments_lexer": "ipython3",
   "version": "3.7.10"
  }
 },
 "nbformat": 4,
 "nbformat_minor": 5
}
